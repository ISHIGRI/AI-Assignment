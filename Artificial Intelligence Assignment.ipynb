{
 "cells": [
  {
   "cell_type": "markdown",
   "id": "5d58cff3",
   "metadata": {},
   "source": [
    "<h1>Strings in Python</h1>"
   ]
  },
  {
   "cell_type": "code",
   "execution_count": 1,
   "id": "7de6b761",
   "metadata": {},
   "outputs": [
    {
     "name": "stdout",
     "output_type": "stream",
     "text": [
      "Hello, world!\n",
      "First character: H\n",
      "Last character: !\n",
      "Substring: world\n",
      "Uppercase: HELLO, WORLD!\n",
      "Lowercase: hello, world!\n"
     ]
    }
   ],
   "source": [
    "# Define a string\n",
    "my_string = \"Hello, world!\"\n",
    "\n",
    "# Print the string\n",
    "print(my_string)\n",
    "\n",
    "# Accessing characters in the string\n",
    "first_char = my_string[0]\n",
    "last_char = my_string[-1]\n",
    "print(\"First character:\", first_char)\n",
    "print(\"Last character:\", last_char)\n",
    "\n",
    "# Slicing the string\n",
    "substring = my_string[7:12]\n",
    "print(\"Substring:\", substring)\n",
    "\n",
    "# Convert the string to uppercase\n",
    "uppercase_string = my_string.upper()\n",
    "print(\"Uppercase:\", uppercase_string)\n",
    "\n",
    "# Convert the string to lowercase\n",
    "lowercase_string = my_string.lower()\n",
    "print(\"Lowercase:\", lowercase_string)"
   ]
  },
  {
   "cell_type": "markdown",
   "id": "88d6b68d",
   "metadata": {},
   "source": [
    "<h1>Data Types in Python</h1>"
   ]
  },
  {
   "cell_type": "code",
   "execution_count": 2,
   "id": "6019f6ec",
   "metadata": {},
   "outputs": [
    {
     "name": "stdout",
     "output_type": "stream",
     "text": [
      "Integer: 42\n",
      "Float: 3.14\n",
      "String: Hello, world!\n",
      "Boolean: True\n",
      "List: [1, 2, 3, 4, 5]\n",
      "Tuple: (1, 2, 3, 4, 5)\n",
      "Dictionary: {'name': 'Alice', 'age': 30}\n"
     ]
    }
   ],
   "source": [
    "# Integer\n",
    "my_int = 42\n",
    "print(\"Integer:\", my_int)\n",
    "\n",
    "# Float\n",
    "my_float = 3.14\n",
    "print(\"Float:\", my_float)\n",
    "\n",
    "# String\n",
    "my_string = \"Hello, world!\"\n",
    "print(\"String:\", my_string)\n",
    "\n",
    "# Boolean\n",
    "my_bool = True\n",
    "print(\"Boolean:\", my_bool)\n",
    "\n",
    "# List\n",
    "my_list = [1, 2, 3, 4, 5]\n",
    "print(\"List:\", my_list)\n",
    "\n",
    "# Tuple\n",
    "my_tuple = (1, 2, 3, 4, 5)\n",
    "print(\"Tuple:\", my_tuple)\n",
    "\n",
    "# Dictionary\n",
    "my_dict = {\"name\": \"Alice\", \"age\": 30}\n",
    "print(\"Dictionary:\", my_dict)"
   ]
  },
  {
   "cell_type": "markdown",
   "id": "53a9b239",
   "metadata": {},
   "source": [
    "<h1>Loops in Python</h1>"
   ]
  },
  {
   "cell_type": "code",
   "execution_count": 3,
   "id": "60388f4d",
   "metadata": {},
   "outputs": [
    {
     "name": "stdout",
     "output_type": "stream",
     "text": [
      "0\n",
      "1\n",
      "2\n",
      "3\n",
      "4\n",
      "0\n",
      "1\n",
      "2\n",
      "3\n",
      "4\n"
     ]
    }
   ],
   "source": [
    "# For loop\n",
    "for i in range(5):\n",
    "    print(i)\n",
    "\n",
    "# While loop\n",
    "counter = 0\n",
    "while counter < 5:\n",
    "    print(counter)\n",
    "    counter += 1"
   ]
  },
  {
   "cell_type": "markdown",
   "id": "790f68e5",
   "metadata": {},
   "source": [
    "<h1>Conditional Statement in Python</h1>"
   ]
  },
  {
   "cell_type": "code",
   "execution_count": 4,
   "id": "ec9b5aee",
   "metadata": {},
   "outputs": [
    {
     "name": "stdout",
     "output_type": "stream",
     "text": [
      "x is greater than 5\n",
      "x is positive\n",
      "x is positive and odd\n"
     ]
    }
   ],
   "source": [
    "# Define a variable\n",
    "x = 10\n",
    "\n",
    "# Conditional statement\n",
    "if x > 5:\n",
    "    print(\"x is greater than 5\")\n",
    "else:\n",
    "    print(\"x is not greater than 5\")\n",
    "\n",
    "# If-elif-else Statement:\n",
    "x = 5\n",
    "if x > 0:\n",
    "    print(\"x is positive\")\n",
    "elif x < 0:\n",
    "    print(\"x is negative\")\n",
    "else:\n",
    "    print(\"x is zero\")\n",
    "\n",
    "# Nested If Statement:\n",
    "x = 5\n",
    "if x > 0:\n",
    "    if x % 2 == 0:\n",
    "        print(\"x is positive and even\")\n",
    "    else:\n",
    "        print(\"x is positive and odd\")\n",
    "else:\n",
    "    print(\"x is not positive\")"
   ]
  },
  {
   "cell_type": "markdown",
   "id": "3aed1621",
   "metadata": {},
   "source": [
    "<h1>Functions in Python</h1>"
   ]
  },
  {
   "cell_type": "code",
   "execution_count": 8,
   "id": "1a23a668",
   "metadata": {},
   "outputs": [
    {
     "name": "stdout",
     "output_type": "stream",
     "text": [
      "Hello, Alice!\n",
      "Hello, Bob!\n",
      "5040\n"
     ]
    }
   ],
   "source": [
    "# Define a function\n",
    "def greet(name):\n",
    "    \"\"\"Greets the user.\"\"\"\n",
    "    print(\"Hello, \" + name + \"!\")\n",
    "\n",
    "# Call the function\n",
    "greet(\"Alice\")\n",
    "greet(\"Bob\")\n",
    "\n",
    "#Recursive Function:\n",
    "def factorial(n):\n",
    "    if n == 0:\n",
    "        return 1\n",
    "    else:\n",
    "        return n * factorial(n - 1)\n",
    "\n",
    "print(factorial(7))"
   ]
  },
  {
   "cell_type": "markdown",
   "id": "0afff273",
   "metadata": {},
   "source": [
    "<h1>Classes in Python</h1>"
   ]
  },
  {
   "cell_type": "code",
   "execution_count": 10,
   "id": "4920e6aa",
   "metadata": {},
   "outputs": [
    {
     "name": "stdout",
     "output_type": "stream",
     "text": [
      "Name: Buddy\n",
      "Age: 3\n",
      "Woof!\n"
     ]
    }
   ],
   "source": [
    "# Define a simple class\n",
    "class Dog:\n",
    "    # Constructor\n",
    "    def __init__(self, name, age):\n",
    "        self.name = name\n",
    "        self.age = age\n",
    "\n",
    "    # Method to bark\n",
    "    def bark(self):\n",
    "        print(\"Woof!\")\n",
    "\n",
    "# Create an instance of the Dog class\n",
    "my_dog = Dog(\"Buddy\", 3)\n",
    "\n",
    "# Access attributes and call methods\n",
    "print(\"Name:\", my_dog.name)\n",
    "print(\"Age:\", my_dog.age)\n",
    "my_dog.bark()"
   ]
  },
  {
   "cell_type": "markdown",
   "id": "73db5914",
   "metadata": {},
   "source": [
    "<h1>NumPy Library in Python</h1>"
   ]
  },
  {
   "cell_type": "markdown",
   "id": "4475cc0c",
   "metadata": {},
   "source": [
    "NumPy is a Python library for numerical computing, offering efficient arrays and mathematical functions, crucial for tasks like data analysis and scientific computing. NumPy arrays are faster and more compact than Python lists. An array consumes less memory and is convenient to use. NumPy uses much less memory to store data and it provides a mechanism of specifying the data types. This allows the code to be optimized even further."
   ]
  },
  {
   "cell_type": "code",
   "execution_count": 11,
   "id": "2356be9f",
   "metadata": {},
   "outputs": [
    {
     "name": "stdout",
     "output_type": "stream",
     "text": [
      "[13 15 11 14 12]\n",
      "[0. 0.]\n",
      "[1. 1.]\n",
      "[17. 16.]\n",
      "[11 12 13 14 15]\n",
      "[1 2 3 4 5 6 7 8]\n"
     ]
    }
   ],
   "source": [
    "import numpy as np\n",
    "arr1 = np.array([13, 15, 11, 14, 12])\n",
    "print(arr1)\n",
    "\n",
    "# Functions in NUmpy\n",
    "arr = np.zeros(2)\n",
    "print(arr)\n",
    "arr = np.ones(2)\n",
    "print(arr)\n",
    "empty_arr = np.empty(2)\n",
    "empty_arr[0] = 17\n",
    "empty_arr[1] = 16\n",
    "print(empty_arr)\n",
    "print(np.sort(arr1))\n",
    "a = np.array([1, 2, 3, 4])\n",
    "b = np.array([5, 6, 7, 8])\n",
    "print(np.concatenate((a, b)))"
   ]
  },
  {
   "cell_type": "markdown",
   "id": "a2a8e12b",
   "metadata": {},
   "source": [
    "<h1>pandas Library in Python</h1>"
   ]
  },
  {
   "cell_type": "markdown",
   "id": "013fbc1f",
   "metadata": {},
   "source": [
    "Pandas is a Python library for data manipulation and analysis, featuring easy-to-use data structures like DataFrame and Series, ideal for tasks such as cleaning, transforming, and analyzing structured data. Pandas is used for data manipulation and analysis, offering powerful data structures and tools for working with structured data. Overall, Pandas is widely used by data scientists, analysts, and developers for data exploration, cleaning, preprocessing, and analysis tasks, making it an essential tool in the Python ecosystem for working with structured data.\n",
    "\n",
    "<h2>Managing Datasets using pandas</h2>\n",
    "\n",
    "<h3>Dataset: salaries</h3>"
   ]
  },
  {
   "cell_type": "code",
   "execution_count": 12,
   "id": "2bd3fa03",
   "metadata": {},
   "outputs": [
    {
     "name": "stdout",
     "output_type": "stream",
     "text": [
      "   work_year experience_level employment_type            job_title  salary  \\\n",
      "0       2024               SE              FT  Security Consultant   75000   \n",
      "1       2024               SE              FT  Security Consultant   55000   \n",
      "2       2024               SE              FT    Security Engineer  230000   \n",
      "3       2024               SE              FT    Security Engineer  168000   \n",
      "4       2024               SE              FT    Security Engineer  230000   \n",
      "\n",
      "  salary_currency  salary_in_usd employee_residence  remote_ratio  \\\n",
      "0             GBP          93750                 GB             0   \n",
      "1             GBP          68750                 GB             0   \n",
      "2             USD         230000                 US             0   \n",
      "3             USD         168000                 US             0   \n",
      "4             USD         230000                 US             0   \n",
      "\n",
      "  company_location company_size  \n",
      "0               GB            M  \n",
      "1               GB            M  \n",
      "2               US            M  \n",
      "3               US            M  \n",
      "4               US            M  \n"
     ]
    }
   ],
   "source": [
    "import pandas as pd\n",
    "# Reading Data from CSV File:\n",
    "df = pd.read_csv('salaries.csv')\n",
    "print(df.head())"
   ]
  },
  {
   "cell_type": "code",
   "execution_count": 13,
   "id": "0bd86425",
   "metadata": {},
   "outputs": [
    {
     "name": "stdout",
     "output_type": "stream",
     "text": [
      "      work_year experience_level employment_type  \\\n",
      "5298       2020               MI              FT   \n",
      "5299       2021               SE              FT   \n",
      "5300       2021               SE              FT   \n",
      "5301       2021               MI              FT   \n",
      "5302       2021               MI              FT   \n",
      "\n",
      "                         job_title  salary salary_currency  salary_in_usd  \\\n",
      "5298        Cyber Security Analyst  140000             AUD          96422   \n",
      "5299  Information Security Manager   60000             GBP          82528   \n",
      "5300  Penetration Testing Engineer  126000             USD         126000   \n",
      "5301  Information Security Analyst   42000             GBP          57769   \n",
      "5302   Threat Intelligence Analyst   66310             USD          66310   \n",
      "\n",
      "     employee_residence  remote_ratio company_location company_size  \n",
      "5298                 AU            50               AU            M  \n",
      "5299                 GB            50               GB            L  \n",
      "5300                 US           100               US            L  \n",
      "5301                 GB           100               GB            L  \n",
      "5302                 US             0               US            L  \n"
     ]
    }
   ],
   "source": [
    "print(df.tail())\n"
   ]
  },
  {
   "cell_type": "code",
   "execution_count": 14,
   "id": "cc38f149",
   "metadata": {},
   "outputs": [
    {
     "name": "stdout",
     "output_type": "stream",
     "text": [
      "(5303, 11)\n",
      "Index(['work_year', 'experience_level', 'employment_type', 'job_title',\n",
      "       'salary', 'salary_currency', 'salary_in_usd', 'employee_residence',\n",
      "       'remote_ratio', 'company_location', 'company_size'],\n",
      "      dtype='object')\n",
      "         work_year        salary  salary_in_usd  remote_ratio\n",
      "count  5303.000000  5.303000e+03    5303.000000   5303.000000\n",
      "mean   2022.541580  3.662708e+05  146160.636621     41.900811\n",
      "std       0.819484  1.072331e+07   63919.548433     47.820549\n",
      "min    2020.000000  1.640000e+04   15897.000000      0.000000\n",
      "25%    2022.000000  1.004750e+05  100000.000000      0.000000\n",
      "50%    2023.000000  1.400000e+05  138000.000000      0.000000\n",
      "75%    2023.000000  1.830000e+05  180000.000000    100.000000\n",
      "max    2024.000000  6.000000e+08  700000.000000    100.000000\n",
      "0       SE\n",
      "1       SE\n",
      "2       SE\n",
      "3       SE\n",
      "4       SE\n",
      "        ..\n",
      "5298    MI\n",
      "5299    SE\n",
      "5300    SE\n",
      "5301    MI\n",
      "5302    MI\n",
      "Name: experience_level, Length: 5303, dtype: object\n"
     ]
    }
   ],
   "source": [
    "# Basic DataFrame Operations:\n",
    "print(df.shape)\n",
    "print(df.columns)\n",
    "print(df.describe())\n",
    "print(df['experience_level'])"
   ]
  },
  {
   "cell_type": "markdown",
   "id": "6711cb59",
   "metadata": {},
   "source": [
    "<h3>Dataset: Cyber Security</h3>"
   ]
  },
  {
   "cell_type": "code",
   "execution_count": 15,
   "id": "e4cee32e",
   "metadata": {},
   "outputs": [
    {
     "name": "stdout",
     "output_type": "stream",
     "text": [
      "   qty_dot_url  qty_hyphen_url  qty_underline_url  qty_slash_url  \\\n",
      "0            1               0                  0              1   \n",
      "1            2               5                  4              2   \n",
      "2            2               0                  0              0   \n",
      "3            1               1                  0              2   \n",
      "4            2               1                  0              0   \n",
      "\n",
      "   qty_questionmark_url  qty_equal_url  qty_at_url  qty_and_url  \\\n",
      "0                     0              0           0            0   \n",
      "1                     0              0           0            0   \n",
      "2                     0              0           0            0   \n",
      "3                     0              0           0            0   \n",
      "4                     0              0           0            0   \n",
      "\n",
      "   qty_exclamation_url  qty_space_url  ...  qty_ip_resolved  qty_nameservers  \\\n",
      "0                    0              0  ...                2                2   \n",
      "1                    0              0  ...                2                4   \n",
      "2                    0              0  ...                2                2   \n",
      "3                    0              0  ...                1                2   \n",
      "4                    0              0  ...                1                2   \n",
      "\n",
      "   qty_mx_servers  ttl_hostname  tls_ssl_certificate  qty_redirects  \\\n",
      "0               5           292                    0             -1   \n",
      "1               2            52                    0              1   \n",
      "2               0           298                    1              1   \n",
      "3               5          1792                    0              0   \n",
      "4               1           299                    1              1   \n",
      "\n",
      "   url_google_index  domain_google_index  url_shortened  phishing  \n",
      "0                 0                    0              0         1  \n",
      "1                 0                    0              0         1  \n",
      "2                 0                    0              0         0  \n",
      "3                 0                    0              0         1  \n",
      "4                 0                    0              0         0  \n",
      "\n",
      "[5 rows x 112 columns]\n"
     ]
    }
   ],
   "source": [
    "# Reading Data from CSV File:\n",
    "df1 = pd.read_csv('dataset_cybersecurity_michelle.csv')\n",
    "print(df1.head())"
   ]
  },
  {
   "cell_type": "code",
   "execution_count": 16,
   "id": "1a4c19b6",
   "metadata": {},
   "outputs": [
    {
     "name": "stdout",
     "output_type": "stream",
     "text": [
      "        qty_dot_url  qty_hyphen_url  qty_underline_url  qty_slash_url  \\\n",
      "129693            3               1                  0              0   \n",
      "129694            2               0                  0              0   \n",
      "129695            2               1                  0              5   \n",
      "129696            2               0                  0              1   \n",
      "129697            2               0                  0              0   \n",
      "\n",
      "        qty_questionmark_url  qty_equal_url  qty_at_url  qty_and_url  \\\n",
      "129693                     0              0           0            0   \n",
      "129694                     0              0           0            0   \n",
      "129695                     0              0           0            0   \n",
      "129696                     0              0           0            0   \n",
      "129697                     0              0           0            0   \n",
      "\n",
      "        qty_exclamation_url  qty_space_url  ...  qty_ip_resolved  \\\n",
      "129693                    0              0  ...                1   \n",
      "129694                    0              0  ...                1   \n",
      "129695                    0              0  ...                1   \n",
      "129696                    0              0  ...                1   \n",
      "129697                    0              0  ...                1   \n",
      "\n",
      "        qty_nameservers  qty_mx_servers  ttl_hostname  tls_ssl_certificate  \\\n",
      "129693                3               1          3597                    0   \n",
      "129694                2               2           591                    0   \n",
      "129695                2               5         14391                    1   \n",
      "129696                1               1            52                    1   \n",
      "129697                4               0           299                    0   \n",
      "\n",
      "        qty_redirects  url_google_index  domain_google_index  url_shortened  \\\n",
      "129693              0                 0                    0              0   \n",
      "129694              2                 0                    0              0   \n",
      "129695              0                 0                    0              0   \n",
      "129696              0                 0                    0              0   \n",
      "129697              0                 0                    0              0   \n",
      "\n",
      "        phishing  \n",
      "129693         0  \n",
      "129694         0  \n",
      "129695         1  \n",
      "129696         1  \n",
      "129697         0  \n",
      "\n",
      "[5 rows x 112 columns]\n"
     ]
    }
   ],
   "source": [
    "print(df1.tail())\n"
   ]
  },
  {
   "cell_type": "code",
   "execution_count": 17,
   "id": "3e5d50ed",
   "metadata": {},
   "outputs": [
    {
     "name": "stdout",
     "output_type": "stream",
     "text": [
      "(129698, 112)\n",
      "Index(['qty_dot_url', 'qty_hyphen_url', 'qty_underline_url', 'qty_slash_url',\n",
      "       'qty_questionmark_url', 'qty_equal_url', 'qty_at_url', 'qty_and_url',\n",
      "       'qty_exclamation_url', 'qty_space_url',\n",
      "       ...\n",
      "       'qty_ip_resolved', 'qty_nameservers', 'qty_mx_servers', 'ttl_hostname',\n",
      "       'tls_ssl_certificate', 'qty_redirects', 'url_google_index',\n",
      "       'domain_google_index', 'url_shortened', 'phishing'],\n",
      "      dtype='object', length=112)\n",
      "         qty_dot_url  qty_hyphen_url  qty_underline_url  qty_slash_url  \\\n",
      "count  129698.000000   129698.000000      129698.000000  129698.000000   \n",
      "mean        2.220612        0.370044           0.132392       1.489892   \n",
      "std         1.314717        1.199731           0.706240       1.963822   \n",
      "min         1.000000        0.000000           0.000000       0.000000   \n",
      "25%         2.000000        0.000000           0.000000       0.000000   \n",
      "50%         2.000000        0.000000           0.000000       1.000000   \n",
      "75%         2.000000        0.000000           0.000000       3.000000   \n",
      "max        24.000000       35.000000          21.000000      44.000000   \n",
      "\n",
      "       qty_questionmark_url  qty_equal_url     qty_at_url    qty_and_url  \\\n",
      "count         129698.000000  129698.000000  129698.000000  129698.000000   \n",
      "mean               0.010956       0.240459       0.025683       0.163750   \n",
      "std                0.123975       1.027070       0.292883       0.991589   \n",
      "min                0.000000       0.000000       0.000000       0.000000   \n",
      "25%                0.000000       0.000000       0.000000       0.000000   \n",
      "50%                0.000000       0.000000       0.000000       0.000000   \n",
      "75%                0.000000       0.000000       0.000000       0.000000   \n",
      "max                9.000000      23.000000      43.000000      26.000000   \n",
      "\n",
      "       qty_exclamation_url  qty_space_url  ...  qty_ip_resolved  \\\n",
      "count        129698.000000  129698.000000  ...    129698.000000   \n",
      "mean              0.003547       0.001234  ...         1.130788   \n",
      "std               0.098266       0.081421  ...         0.903889   \n",
      "min               0.000000       0.000000  ...        -1.000000   \n",
      "25%               0.000000       0.000000  ...         1.000000   \n",
      "50%               0.000000       0.000000  ...         1.000000   \n",
      "75%               0.000000       0.000000  ...         1.000000   \n",
      "max              10.000000       9.000000  ...        24.000000   \n",
      "\n",
      "       qty_nameservers  qty_mx_servers   ttl_hostname  tls_ssl_certificate  \\\n",
      "count    129698.000000   129698.000000  129698.000000        129698.000000   \n",
      "mean          2.790490        1.710851    5806.972528             0.505382   \n",
      "std           1.339672        1.714852   10286.320400             0.499973   \n",
      "min           0.000000        0.000000      -1.000000             0.000000   \n",
      "25%           2.000000        1.000000     291.000000             0.000000   \n",
      "50%           2.000000        1.000000    1796.000000             1.000000   \n",
      "75%           4.000000        2.000000   10791.000000             1.000000   \n",
      "max          20.000000       20.000000  604800.000000             1.000000   \n",
      "\n",
      "       qty_redirects  url_google_index  domain_google_index  url_shortened  \\\n",
      "count  129698.000000     129698.000000        129698.000000  129698.000000   \n",
      "mean        0.332341          0.001365             0.002051       0.006369   \n",
      "std         0.793889          0.052740             0.058474       0.079550   \n",
      "min        -1.000000         -1.000000            -1.000000       0.000000   \n",
      "25%         0.000000          0.000000             0.000000       0.000000   \n",
      "50%         0.000000          0.000000             0.000000       0.000000   \n",
      "75%         1.000000          0.000000             0.000000       0.000000   \n",
      "max        17.000000          1.000000             1.000000       1.000000   \n",
      "\n",
      "            phishing  \n",
      "count  129698.000000  \n",
      "mean        0.402103  \n",
      "std         0.490324  \n",
      "min         0.000000  \n",
      "25%         0.000000  \n",
      "50%         0.000000  \n",
      "75%         1.000000  \n",
      "max         1.000000  \n",
      "\n",
      "[8 rows x 112 columns]\n",
      "0         1\n",
      "1         2\n",
      "2         2\n",
      "3         1\n",
      "4         2\n",
      "         ..\n",
      "129693    3\n",
      "129694    2\n",
      "129695    2\n",
      "129696    2\n",
      "129697    2\n",
      "Name: qty_dot_url, Length: 129698, dtype: int64\n"
     ]
    }
   ],
   "source": [
    "# Basic DataFrame Operations:\n",
    "print(df1.shape)\n",
    "print(df1.columns)\n",
    "print(df1.describe())\n",
    "print(df1['qty_dot_url'])"
   ]
  }
 ],
 "metadata": {
  "kernelspec": {
   "display_name": "Python 3 (ipykernel)",
   "language": "python",
   "name": "python3"
  },
  "language_info": {
   "codemirror_mode": {
    "name": "ipython",
    "version": 3
   },
   "file_extension": ".py",
   "mimetype": "text/x-python",
   "name": "python",
   "nbconvert_exporter": "python",
   "pygments_lexer": "ipython3",
   "version": "3.9.7"
  }
 },
 "nbformat": 4,
 "nbformat_minor": 5
}
